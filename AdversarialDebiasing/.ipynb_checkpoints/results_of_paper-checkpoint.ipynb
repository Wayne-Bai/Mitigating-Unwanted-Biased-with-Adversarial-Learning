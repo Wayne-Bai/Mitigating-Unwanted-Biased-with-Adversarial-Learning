{
 "cells": [
  {
   "cell_type": "code",
   "execution_count": 1,
   "metadata": {},
   "outputs": [],
   "source": [
    "import torch\n",
    "import datasets\n",
    "import os\n",
    "import seaborn as sns\n",
    "import matplotlib.pyplot as plt   \n",
    "import numpy as np\n",
    "from utils import plot_adult_results\n",
    "from sklearn.metrics import accuracy_score, mean_squared_error\n",
    "from torch import nn\n",
    "from main import test \n",
    "from model import Predictor, ImagePredictor, Adversary"
   ]
  },
  {
   "cell_type": "code",
   "execution_count": 2,
   "metadata": {},
   "outputs": [],
   "source": [
    "ROOT_DIR = (os.path.abspath(''))\n",
    "MODEL_DIR = os.path.join(ROOT_DIR, \"saved_models\")\n",
    "DEVICE = torch.device(\"cuda\" if torch.cuda.is_available() else \"cpu\")"
   ]
  },
  {
   "cell_type": "markdown",
   "metadata": {},
   "source": [
    "# Results UCI Adult Dataset"
   ]
  },
  {
   "cell_type": "markdown",
   "metadata": {},
   "source": [
    "###### Note that in order to obtain the results we report in our paper, we trained 30 different predictors without debiasing (seed 1 - 30) and 30 different predictors with debiasing (seed 1 - 30)  and averaged the results of those models. <u>In this notebook we will only show the result for a single model trained with the seed set to 15.</u> Results of our report can be reproduced by training with the given seeds following the instructions in the README. \n",
    "\n",
    "The models where trained with the following settings: <br>\n",
    "- Without debias\n",
    "> Epochs: 10 <br>\n",
    "> Batch size: 128 <br>\n",
    "> Predictor learning rate: 0.1 <br>\n",
    "\n",
    "- With debias (Faithful implementation)\n",
    "> Epochs: 30 <br>\n",
    "> Batch size: 128 <br> \n",
    "> Predictor learning rate: 0.01 <br> \n",
    "> Adversary learning rate: 0.001 <br>\n",
    "> Alpha: $\\sqrt t$, where $t$ is the training step <br> \n",
    "> Decays predictor learning rate every training step $t$ by $\\eta \\leftarrow \\eta \\cdot 1/t$\n",
    "\n",
    "\n",
    "- With debias (Refined implementation)\n",
    "> Epochs: 15 <br>\n",
    "> Batch size: 128 <br> \n",
    "> Predictor learning rate: 0.001 <br> \n",
    "> Adversary learning rate: 0.001 <br>\n",
    "> Alpha: 0.3 <br> \n",
    "> Exponential decayer gamma: 0.96 (decays every 1000 training steps) <br>"
   ]
  },
  {
   "cell_type": "markdown",
   "metadata": {},
   "source": [
    "### Load dataset "
   ]
  },
  {
   "cell_type": "code",
   "execution_count": 3,
   "metadata": {},
   "outputs": [
    {
     "name": "stdout",
     "output_type": "stream",
     "text": [
      "sex      income\n",
      " Female   <=50K     9592\n",
      "          >50K      1179\n",
      " Male     <=50K    15128\n",
      "          >50K      6662\n",
      "Name: income, dtype: int64\n",
      "sex      income \n",
      " Female   <=50K.    4831\n",
      "          >50K.      590\n",
      " Male     <=50K.    7604\n",
      "          >50K.     3256\n",
      "Name: income, dtype: int64\n"
     ]
    }
   ],
   "source": [
    "__, __, dataloader_test = datasets.utils.get_dataloaders(batch_size=128, dataset='adult')"
   ]
  },
  {
   "cell_type": "markdown",
   "metadata": {},
   "source": [
    "### Load models \n"
   ]
  },
  {
   "cell_type": "markdown",
   "metadata": {},
   "source": [
    "Filenames of the saved models"
   ]
  },
  {
   "cell_type": "code",
   "execution_count": 4,
   "metadata": {},
   "outputs": [],
   "source": [
    "pred_biased_filename = \"pred_debiased_False_adult_seed_15\" \n",
    "pred_debiased_f_filename = \"pred_debiased_True_faithful_adult_seed_15\"\n",
    "pred_debiased_r_filename = \"pred_debiased_True_refined_adult_seed_15\""
   ]
  },
  {
   "cell_type": "code",
   "execution_count": 5,
   "metadata": {},
   "outputs": [],
   "source": [
    "input_dim = next(iter(dataloader_test))[0].shape[1]\n",
    "\n",
    "# Load the predictor trained without debiasing\n",
    "predictor_biased = Predictor(input_dim).to(DEVICE)\n",
    "predictor_biased.load_state_dict(torch.load(os.path.join(MODEL_DIR, pred_biased_filename), map_location=DEVICE))\n",
    "predictor_biased.eval();\n",
    "\n",
    "# Load the predictor trained with debiasing (faithful implementation)\n",
    "predictor_debiased_f = Predictor(input_dim).to(DEVICE)\n",
    "predictor_debiased_f.load_state_dict(torch.load(os.path.join(MODEL_DIR, pred_debiased_f_filename), map_location=DEVICE))\n",
    "predictor_debiased_f.eval();\n",
    "\n",
    "# Load the predictor trained with debiasing (refined implementation)\n",
    "predictor_debiased_r = Predictor(input_dim).to(DEVICE)\n",
    "predictor_debiased_r.load_state_dict(torch.load(os.path.join(MODEL_DIR, pred_debiased_r_filename), map_location=DEVICE))\n",
    "predictor_debiased_r.eval();"
   ]
  },
  {
   "cell_type": "markdown",
   "metadata": {},
   "source": [
    "### Results on test set"
   ]
  },
  {
   "cell_type": "code",
   "execution_count": 6,
   "metadata": {},
   "outputs": [],
   "source": [
    "def plot_confusion_matrix(confusion_matrix, plot_title=\"\", ax=None):\n",
    "    sns.heatmap(confusion_matrix, annot=True, annot_kws={\"size\": 14}, fmt='g', cbar=False, cmap=\"Blues\", ax = ax)\n",
    "    ax.set_title(plot_title, fontsize=13); \n",
    "    ax.xaxis.set_ticklabels(['Pred 0', 'Pred 1'], fontsize=12); \n",
    "    ax.yaxis.set_ticklabels(['True 0', 'True 1'], fontsize=12);\n",
    "    \n",
    "def plot_confusion_matrices(confusion_matrix_male, confusion_matrix_female, plot_title=\"\"):\n",
    "    fig, axs = plt.subplots(1, 2, figsize=(6,2))\n",
    "    plot_confusion_matrix(confusion_matrix_male, plot_title=\"Male\", ax=axs[0])\n",
    "    plot_confusion_matrix(confusion_matrix_female, plot_title=\"Female\", ax=axs[1])\n",
    "    fig.suptitle(plot_title, fontsize=15)\n",
    "    plt.tight_layout()\n",
    "    plt.show()\n",
    "    \n",
    "def print_results(accuracy, mutual_info, neg_fpr, pos_fpr, neg_fnr, pos_fnr, model_type=\"\"):\n",
    "    print(\"-------------------------------------------------------------------\")\n",
    "    print(\"RESULTS %s \\n\"%(model_type.upper()))\n",
    "    print(\"Test accuracy predictor: {:.5f}\".format(accuracy))\n",
    "    print(\"Mutual information I(Z; Y_hat | Y): {:.5f}\\n\".format(mutual_info))\n",
    "    print(\"False Postive Rates (FPR):\")\n",
    "    print(\"      Female: {:.5f} || Male: {:.5f}\".format(neg_fpr, pos_fpr))\n",
    "    print(\"False Negative Rates (FNR):\")\n",
    "    print(\"      Female: {:.5f} || Male: {:.5f}\".format(neg_fnr, pos_fnr))\n",
    "    print()\n",
    "    print(\"Absolute difference FPR between Female vs. Male: {:.5f}\".format(abs(neg_fpr - pos_fpr)))\n",
    "    print(\"Absolute difference FNR between Female vs. Male: {:.5f}\".format(abs(neg_fnr - pos_fnr)))\n",
    "    print(\"-------------------------------------------------------------------\")"
   ]
  },
  {
   "cell_type": "code",
   "execution_count": 7,
   "metadata": {},
   "outputs": [],
   "source": [
    "# Results predictor trained without debiasing\n",
    "accuracy_b, neg_confusion_mat_b, neg_fpr_b, neg_fnr_b, pos_confusion_mat_b, pos_fpr_b, pos_fnr_b, mutual_info_b = test(dataloader_test, \n",
    "                                                                                                           predictor = predictor_biased, \n",
    "                                                                                                           adversary = None, \n",
    "                                                                                                           criterion = nn.BCELoss(), \n",
    "                                                                                                           metric = accuracy_score, \n",
    "                                                                                                           device = DEVICE, \n",
    "                                                                                                           dataset_name = 'adult', \n",
    "                                                                                                           show_logs = False)\n",
    "\n",
    "# Results predictor trained with debiasing (faithful implementation)\n",
    "accuracy_dbf, neg_confusion_mat_dbf, neg_fpr_dbf, neg_fnr_dbf, pos_confusion_mat_dbf, pos_fpr_dbf, pos_fnr_dbf, mutual_info_dbf = test(dataloader_test, \n",
    "                                                                                                                           predictor = predictor_debiased_f, \n",
    "                                                                                                                           adversary = None, \n",
    "                                                                                                                           criterion = nn.BCELoss(), \n",
    "                                                                                                                           metric = accuracy_score, \n",
    "                                                                                                                           device = DEVICE, \n",
    "                                                                                                                           dataset_name = 'adult', \n",
    "                                                                                                                           show_logs = False)\n",
    "# Results predictor trained with debiasing (refined implementation)\n",
    "accuracy_dbr, neg_confusion_mat_dbr, neg_fpr_dbr, neg_fnr_dbr, pos_confusion_mat_dbr, pos_fpr_dbr, pos_fnr_dbr, mutual_info_dbr = test(dataloader_test, \n",
    "                                                                                                                           predictor = predictor_debiased_r, \n",
    "                                                                                                                           adversary = None, \n",
    "                                                                                                                           criterion = nn.BCELoss(), \n",
    "                                                                                                                           metric = accuracy_score, \n",
    "                                                                                                                           device = DEVICE, \n",
    "                                                                                                                           dataset_name = 'adult', \n",
    "                                                                                                                           show_logs = False)"
   ]
  },
  {
   "cell_type": "code",
   "execution_count": 8,
   "metadata": {},
   "outputs": [
    {
     "data": {
      "image/png": "[encoded data removed]",
      "text/plain": [
       "<Figure size 432x144 with 2 Axes>"
      ]
     },
     "metadata": {
      "needs_background": "light"
     },
     "output_type": "display_data"
    },
    {
     "data": {
      "image/png": "[encoded data removed]",
      "text/plain": [
       "<Figure size 432x144 with 2 Axes>"
      ]
     },
     "metadata": {
      "needs_background": "light"
     },
     "output_type": "display_data"
    },
    {
     "data": {
      "image/png": "[encoded data removed]",
      "text/plain": [
       "<Figure size 432x144 with 2 Axes>"
      ]
     },
     "metadata": {
      "needs_background": "light"
     },
     "output_type": "display_data"
    }
   ],
   "source": [
    "plot_confusion_matrices(pos_confusion_mat_b, neg_confusion_mat_b, plot_title=\"Without debias\")\n",
    "plot_confusion_matrices(pos_confusion_mat_dbf, neg_confusion_mat_dbf, plot_title=\"With debias (Faithful)\")\n",
    "plot_confusion_matrices(pos_confusion_mat_dbr, neg_confusion_mat_dbr, plot_title=\"With debias (Refined)\")"
   ]
  },
  {
   "cell_type": "markdown",
   "metadata": {},
   "source": [
    "#### Shown are the confusion matrices of the predictor trained with and without debiasing."
   ]
  },
  {
   "cell_type": "code",
   "execution_count": 9,
   "metadata": {},
   "outputs": [
    {
     "name": "stdout",
     "output_type": "stream",
     "text": [
      "-------------------------------------------------------------------\n",
      "RESULTS WITHOUT DEBIAS \n",
      "\n",
      "Test accuracy predictor: 0.84938\n",
      "Mutual information I(Z; Y_hat | Y): 0.01692\n",
      "\n",
      "False Postive Rates (FPR):\n",
      "      Female: 0.01211 || Male: 0.08335\n",
      "False Negative Rates (FNR):\n",
      "      Female: 0.56629 || Male: 0.44041\n",
      "\n",
      "Absolute difference FPR between Female vs. Male: 0.07124\n",
      "Absolute difference FNR between Female vs. Male: 0.12588\n",
      "-------------------------------------------------------------------\n",
      "-------------------------------------------------------------------\n",
      "RESULTS WITH DEBIAS (FAITHFUL) \n",
      "\n",
      "Test accuracy predictor: 0.75404\n",
      "Mutual information I(Z; Y_hat | Y): 0.03261\n",
      "\n",
      "False Postive Rates (FPR):\n",
      "      Female: 0.14641 || Male: 0.35931\n",
      "False Negative Rates (FNR):\n",
      "      Female: 0.21402 || Male: 0.13596\n",
      "\n",
      "Absolute difference FPR between Female vs. Male: 0.21289\n",
      "Absolute difference FNR between Female vs. Male: 0.07806\n",
      "-------------------------------------------------------------------\n",
      "-------------------------------------------------------------------\n",
      "RESULTS WITH DEBIAS (REFINED) \n",
      "\n",
      "Test accuracy predictor: 0.84481\n",
      "Mutual information I(Z; Y_hat | Y): 0.00365\n",
      "\n",
      "False Postive Rates (FPR):\n",
      "      Female: 0.03815 || Male: 0.07690\n",
      "False Negative Rates (FNR):\n",
      "      Female: 0.44318 || Male: 0.46164\n",
      "\n",
      "Absolute difference FPR between Female vs. Male: 0.03876\n",
      "Absolute difference FNR between Female vs. Male: 0.01846\n",
      "-------------------------------------------------------------------\n"
     ]
    }
   ],
   "source": [
    "print_results(accuracy_b, mutual_info_b, neg_fpr_b, pos_fpr_b, neg_fnr_b, pos_fnr_b, model_type=\"Without debias\")\n",
    "print_results(accuracy_dbf, mutual_info_dbf, neg_fpr_dbf, pos_fpr_dbf, neg_fnr_dbf, pos_fnr_dbf, model_type=\"With debias (Faithful)\")\n",
    "print_results(accuracy_dbr, mutual_info_dbr, neg_fpr_dbr, pos_fpr_dbr, neg_fnr_dbr, pos_fnr_dbr, model_type=\"With debias (Refined)\")"
   ]
  },
  {
   "cell_type": "code",
   "execution_count": 10,
   "metadata": {},
   "outputs": [
    {
     "data": {
      "image/png": "[encoded data removed]",
      "text/plain": [
       "<Figure size 504x288 with 2 Axes>"
      ]
     },
     "metadata": {},
     "output_type": "display_data"
    }
   ],
   "source": [
    "# Plots FNR and FPR rates for without debias and with debias (refined) \n",
    "plot_adult_results([neg_fnr_b], [pos_fnr_b], [neg_fpr_b], [pos_fpr_b], \n",
    "                   [neg_fnr_dbr], [pos_fnr_dbr], [neg_fpr_dbr], [pos_fpr_dbr])"
   ]
  },
  {
   "cell_type": "markdown",
   "metadata": {},
   "source": [
    "#### Shown are the FNR and FPR for females and males both with and without debiasing."
   ]
  },
  {
   "cell_type": "code",
   "execution_count": null,
   "metadata": {},
   "outputs": [],
   "source": []
  }
 ],
 "metadata": {
  "kernelspec": {
   "display_name": "Python 3",
   "language": "python",
   "name": "python3"
  },
  "language_info": {
   "codemirror_mode": {
    "name": "ipython",
    "version": 3
   },
   "file_extension": ".py",
   "mimetype": "text/x-python",
   "name": "python",
   "nbconvert_exporter": "python",
   "pygments_lexer": "ipython3",
   "version": "3.7.4"
  }
 },
 "nbformat": 4,
 "nbformat_minor": 2
}
